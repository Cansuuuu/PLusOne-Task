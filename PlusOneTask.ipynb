{
 "cells": [
  {
   "cell_type": "markdown",
   "metadata": {},
   "source": [
    "**Name & Surname:** Cansu Korkut"
   ]
  },
  {
   "cell_type": "code",
   "execution_count": 1,
   "metadata": {},
   "outputs": [],
   "source": [
    "import json"
   ]
  },
  {
   "cell_type": "code",
   "execution_count": 2,
   "metadata": {},
   "outputs": [],
   "source": [
    "file = open('data.json') #open the json file"
   ]
  },
  {
   "cell_type": "code",
   "execution_count": 3,
   "metadata": {},
   "outputs": [],
   "source": [
    "menu = json.load(file)"
   ]
  },
  {
   "cell_type": "code",
   "execution_count": 4,
   "metadata": {},
   "outputs": [
    {
     "name": "stdout",
     "output_type": "stream",
     "text": [
      "The Original File:\n",
      "[\n",
      "  {\n",
      "    \"id\": \"0001\",\n",
      "    \"type\": \"donut\",\n",
      "    \"name\": \"Cake\",\n",
      "    \"ppu\": 0.55,\n",
      "    \"batters\": {\n",
      "      \"batter\": [\n",
      "        {\n",
      "          \"id\": \"1001\",\n",
      "          \"type\": \"Regular\"\n",
      "        },\n",
      "        {\n",
      "          \"id\": \"1002\",\n",
      "          \"type\": \"Chocolate\"\n",
      "        },\n",
      "        {\n",
      "          \"id\": \"1003\",\n",
      "          \"type\": \"Blueberry\"\n",
      "        },\n",
      "        {\n",
      "          \"id\": \"1004\",\n",
      "          \"type\": \"Devil's Food\"\n",
      "        }\n",
      "      ]\n",
      "    },\n",
      "    \"topping\": [\n",
      "      {\n",
      "        \"id\": \"5001\",\n",
      "        \"type\": \"None\"\n",
      "      },\n",
      "      {\n",
      "        \"id\": \"5002\",\n",
      "        \"type\": \"Glazed\"\n",
      "      },\n",
      "      {\n",
      "        \"id\": \"5005\",\n",
      "        \"type\": \"Sugar\"\n",
      "      },\n",
      "      {\n",
      "        \"id\": \"5007\",\n",
      "        \"type\": \"Powdered Sugar\"\n",
      "      },\n",
      "      {\n",
      "        \"id\": \"5006\",\n",
      "        \"type\": \"Chocolate with Sprinkles\"\n",
      "      },\n",
      "      {\n",
      "        \"id\": \"5003\",\n",
      "        \"type\": \"Chocolate\"\n",
      "      },\n",
      "      {\n",
      "        \"id\": \"5004\",\n",
      "        \"type\": \"Maple\"\n",
      "      }\n",
      "    ]\n",
      "  },\n",
      "  {\n",
      "    \"id\": \"0002\",\n",
      "    \"type\": \"donut\",\n",
      "    \"name\": \"Raised\",\n",
      "    \"ppu\": 0.55,\n",
      "    \"batters\": {\n",
      "      \"batter\": [\n",
      "        {\n",
      "          \"id\": \"1001\",\n",
      "          \"type\": \"Regular\"\n",
      "        }\n",
      "      ]\n",
      "    },\n",
      "    \"topping\": [\n",
      "      {\n",
      "        \"id\": \"5001\",\n",
      "        \"type\": \"None\"\n",
      "      },\n",
      "      {\n",
      "        \"id\": \"5002\",\n",
      "        \"type\": \"Glazed\"\n",
      "      },\n",
      "      {\n",
      "        \"id\": \"5005\",\n",
      "        \"type\": \"Sugar\"\n",
      "      },\n",
      "      {\n",
      "        \"id\": \"5003\",\n",
      "        \"type\": \"Chocolate\"\n",
      "      },\n",
      "      {\n",
      "        \"id\": \"5004\",\n",
      "        \"type\": \"Maple\"\n",
      "      }\n",
      "    ]\n",
      "  },\n",
      "  {\n",
      "    \"id\": \"0003\",\n",
      "    \"type\": \"donut\",\n",
      "    \"name\": \"Old Fashioned\",\n",
      "    \"ppu\": 0.55,\n",
      "    \"batters\": {\n",
      "      \"batter\": [\n",
      "        {\n",
      "          \"id\": \"1001\",\n",
      "          \"type\": \"Regular\"\n",
      "        },\n",
      "        {\n",
      "          \"id\": \"1002\",\n",
      "          \"type\": \"Chocolate\"\n",
      "        }\n",
      "      ]\n",
      "    },\n",
      "    \"topping\": [\n",
      "      {\n",
      "        \"id\": \"5001\",\n",
      "        \"type\": \"None\"\n",
      "      },\n",
      "      {\n",
      "        \"id\": \"5002\",\n",
      "        \"type\": \"Glazed\"\n",
      "      },\n",
      "      {\n",
      "        \"id\": \"5003\",\n",
      "        \"type\": \"Chocolate\"\n",
      "      },\n",
      "      {\n",
      "        \"id\": \"5004\",\n",
      "        \"type\": \"Maple\"\n",
      "      }\n",
      "    ]\n",
      "  }\n",
      "]\n"
     ]
    }
   ],
   "source": [
    "#Print the original json file\n",
    "print(\"The Original File:\")\n",
    "print(json.dumps(menu,indent=2))"
   ]
  },
  {
   "cell_type": "markdown",
   "metadata": {},
   "source": [
    "## The first way (The first function)"
   ]
  },
  {
   "cell_type": "code",
   "execution_count": 5,
   "metadata": {},
   "outputs": [],
   "source": [
    "def getSortedMapleToppedItems(menu):\n",
    "    items = []\n",
    "    itemsNames = []\n",
    "    for item in menu:\n",
    "        try:\n",
    "            listOfToppings = item[\"topping\"]\n",
    "            toppings = iter(listOfToppings)\n",
    "            while True:\n",
    "                try:\n",
    "                    toppingType = next(toppings)\n",
    "                    if toppingType[\"type\"].lower() == \"maple\":\n",
    "                        items.append(item)\n",
    "                        itemsNames.append(item[\"name\"])\n",
    "                        break\n",
    "                except StopIteration:\n",
    "                    break\n",
    "\n",
    "\n",
    "        except:\n",
    "            continue\n",
    "    sortedItems = sorted(items, key=lambda myItem: myItem['name'])\n",
    "    sortedItemsNames = sorted(itemsNames)\n",
    "    return sortedItems, sortedItemsNames"
   ]
  },
  {
   "cell_type": "markdown",
   "metadata": {},
   "source": [
    "### Output the first function"
   ]
  },
  {
   "cell_type": "code",
   "execution_count": 6,
   "metadata": {},
   "outputs": [
    {
     "name": "stdout",
     "output_type": "stream",
     "text": [
      "Item Names Only:\n",
      "['Cake', 'Old Fashioned', 'Raised']\n"
     ]
    }
   ],
   "source": [
    "sortedItemsM1, sortedItemsNamesM1=getSortedMapleToppedItems(menu)\n",
    "\n",
    "#If the items wanted to be run with all of the futures, then uncomment the line below.\n",
    "# print((json.dumps(sortedItemsM1, indent=2)))\n",
    "# print(\"***************************\")\n",
    "print(\"Item Names Only:\")\n",
    "print(sortedItemsNamesM1)"
   ]
  },
  {
   "cell_type": "markdown",
   "metadata": {},
   "source": [
    "## The second way (with filter function)"
   ]
  },
  {
   "cell_type": "code",
   "execution_count": 7,
   "metadata": {},
   "outputs": [],
   "source": [
    "def secondLevelSort(x):\n",
    "    if x[\"type\"].lower() == \"maple\":\n",
    "        return True\n",
    "    else:\n",
    "        return False"
   ]
  },
  {
   "cell_type": "code",
   "execution_count": 8,
   "metadata": {},
   "outputs": [],
   "source": [
    "def firstLevelSort(x):\n",
    "    if \"topping\" in x:\n",
    "        myTestList = filter(secondLevelSort, x[\"topping\"])\n",
    "\n",
    "        if len(list(myTestList)) != 0:\n",
    "            return True\n",
    "        else:\n",
    "            return False\n",
    "    else:\n",
    "        return False"
   ]
  },
  {
   "cell_type": "code",
   "execution_count": 9,
   "metadata": {},
   "outputs": [],
   "source": [
    "def sortmyFilteredList(menu):\n",
    "    initialListItems = list(filter(firstLevelSort, menu))\n",
    "    initialListItemsNames = [item[\"name\"] for item in initialListItems]\n",
    "    sortedItems = sorted(initialListItems, key=lambda myItem: myItem['name'])\n",
    "    sortedItemsNames = sorted(initialListItemsNames)\n",
    "    return sortedItems, sortedItemsNames"
   ]
  },
  {
   "cell_type": "markdown",
   "metadata": {},
   "source": [
    "### Output the second function"
   ]
  },
  {
   "cell_type": "code",
   "execution_count": 10,
   "metadata": {},
   "outputs": [
    {
     "name": "stdout",
     "output_type": "stream",
     "text": [
      "Item Names Only:\n",
      "['Cake', 'Old Fashioned', 'Raised']\n"
     ]
    }
   ],
   "source": [
    "sortedItemsM1, sortedItemsNamesM1=sortmyFilteredList(menu)\n",
    "#If the items wanted to be run with all of the futures, then uncomment the line below.\n",
    "# print((json.dumps(sortedItemsM1, indent=2)))\n",
    "print(\"Item Names Only:\")\n",
    "print(sortedItemsNamesM1)"
   ]
  },
  {
   "cell_type": "markdown",
   "metadata": {},
   "source": [
    "## Output of both functions together"
   ]
  },
  {
   "cell_type": "code",
   "execution_count": 11,
   "metadata": {},
   "outputs": [],
   "source": [
    "#Call the funtions.\n",
    "sortedItemsM1, sortedItemsNamesM1=sortmyFilteredList(menu)\n",
    "sortedItemsM2, sortedItemsNamesM2 = getSortedMapleToppedItems(menu)\n",
    "methods=[{'SortedItems':sortedItemsM1,'SortedNames':sortedItemsNamesM1},{'SortedItems':sortedItemsM2,'SortedNames':sortedItemsNamesM2}]\n",
    "i=0"
   ]
  },
  {
   "cell_type": "code",
   "execution_count": 12,
   "metadata": {},
   "outputs": [
    {
     "name": "stdout",
     "output_type": "stream",
     "text": [
      "Items of method NO.0 :\n",
      "Item Names Only:\n",
      "['Cake', 'Old Fashioned', 'Raised']\n",
      "\n",
      "\n",
      "\n",
      "Items of method NO.1 :\n",
      "Item Names Only:\n",
      "['Cake', 'Old Fashioned', 'Raised']\n",
      "\n",
      "\n",
      "\n"
     ]
    }
   ],
   "source": [
    "for method in methods:\n",
    "    print(\"Items of method NO.\"+str(i)+\" :\")\n",
    "#If the items wanted to be run with all of the futures, then uncomment the two lines below.\n",
    "#     print((json.dumps(method[\"SortedItems\"], indent=2)))\n",
    "#     print(\"***************************\")\n",
    "    print(\"Item Names Only:\")\n",
    "    print(method[\"SortedNames\"])\n",
    "    i=i+1\n",
    "    print(\"\\n\\n\")\n",
    "    "
   ]
  }
 ],
 "metadata": {
  "kernelspec": {
   "display_name": "Python 3",
   "language": "python",
   "name": "python3"
  },
  "language_info": {
   "codemirror_mode": {
    "name": "ipython",
    "version": 3
   },
   "file_extension": ".py",
   "mimetype": "text/x-python",
   "name": "python",
   "nbconvert_exporter": "python",
   "pygments_lexer": "ipython3",
   "version": "3.8.10"
  }
 },
 "nbformat": 4,
 "nbformat_minor": 4
}
